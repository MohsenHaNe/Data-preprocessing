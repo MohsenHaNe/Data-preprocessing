{
 "cells": [
  {
   "cell_type": "code",
   "execution_count": null,
   "id": "db436fe2-4f10-4481-a15e-2bdfb7bcfa12",
   "metadata": {},
   "outputs": [],
   "source": [
    "import pandas as pd\n",
    "import matplotlib.pyplot as plt"
   ]
  },
  {
   "cell_type": "code",
   "execution_count": null,
   "id": "78776ec6-1580-4da8-b68b-6637f43f2c03",
   "metadata": {},
   "outputs": [],
   "source": [
    "data = pd.read_csv('AAPL.csv',parse_dates=['Date'],index_col='Date')\n",
    "data.head()"
   ]
  },
  {
   "cell_type": "code",
   "execution_count": null,
   "id": "d66fdcff-5f52-4a0f-b834-f26e44cea290",
   "metadata": {},
   "outputs": [],
   "source": [
    "data.index"
   ]
  },
  {
   "cell_type": "code",
   "execution_count": null,
   "id": "f3acdb43-5db2-43e9-b3d4-1ca1fdcdedc5",
   "metadata": {},
   "outputs": [],
   "source": [
    "data.Close.resample('M').mean()"
   ]
  },
  {
   "cell_type": "code",
   "execution_count": null,
   "id": "77b29bbe-80df-4233-9d4b-e5848d4c55fb",
   "metadata": {},
   "outputs": [],
   "source": [
    "df = data.iloc[:356,:]"
   ]
  },
  {
   "cell_type": "code",
   "execution_count": null,
   "id": "80ba4f0c-92ec-4fa3-9d02-c79b2c36a231",
   "metadata": {},
   "outputs": [],
   "source": [
    "df.Close.resample('M').mean()"
   ]
  },
  {
   "cell_type": "code",
   "execution_count": null,
   "id": "a0245ca8-dcc8-4d0e-be55-f26d71434066",
   "metadata": {},
   "outputs": [],
   "source": [
    "df.Close.resample('Q').mean().plot(kind='bar')"
   ]
  },
  {
   "cell_type": "code",
   "execution_count": null,
   "id": "e6ff9b43-3b0d-462e-a27f-6696ae84e3e7",
   "metadata": {},
   "outputs": [],
   "source": []
  },
  {
   "cell_type": "code",
   "execution_count": null,
   "id": "dd50e215-62fb-4741-897d-e5544f62bf98",
   "metadata": {},
   "outputs": [],
   "source": []
  }
 ],
 "metadata": {
  "kernelspec": {
   "display_name": "Python 3 (ipykernel)",
   "language": "python",
   "name": "python3"
  },
  "language_info": {
   "codemirror_mode": {
    "name": "ipython",
    "version": 3
   },
   "file_extension": ".py",
   "mimetype": "text/x-python",
   "name": "python",
   "nbconvert_exporter": "python",
   "pygments_lexer": "ipython3",
   "version": "3.12.3"
  }
 },
 "nbformat": 4,
 "nbformat_minor": 5
}
