{
 "cells": [
  {
   "cell_type": "markdown",
   "id": "9e5737aa-6562-4129-9f4c-9e2bc860c18f",
   "metadata": {},
   "source": [
    "### Feature selection has two general approaches:\n",
    "#### 1-brfore train\n",
    "#### 2 - after train(SFS)"
   ]
  },
  {
   "cell_type": "code",
   "execution_count": null,
   "id": "35ca124a-bf1d-4d9c-99f0-e680cdde4138",
   "metadata": {},
   "outputs": [],
   "source": [
    "from sklearn.datasets import load_iris"
   ]
  },
  {
   "cell_type": "code",
   "execution_count": null,
   "id": "58905976-9e04-4efd-a98b-14fbca4ad5f4",
   "metadata": {},
   "outputs": [],
   "source": [
    "x,y = load_iris(return_X_y=True)"
   ]
  },
  {
   "cell_type": "code",
   "execution_count": null,
   "id": "c3f9e936-d0e7-4f63-b51c-b8c5b595bb85",
   "metadata": {},
   "outputs": [],
   "source": [
    "## 1 \n",
    "from sklearn.feature_selection import VarianceThreshold"
   ]
  },
  {
   "cell_type": "code",
   "execution_count": null,
   "id": "35ab05f2-dd20-4b2d-a2f1-54d2d7708b6c",
   "metadata": {},
   "outputs": [],
   "source": [
    "var = VarianceThreshold(0.8)"
   ]
  },
  {
   "cell_type": "code",
   "execution_count": null,
   "id": "30efb1dc-8af9-4c22-a27d-ac917770e6b1",
   "metadata": {},
   "outputs": [],
   "source": [
    "var.fit_transform(x);"
   ]
  },
  {
   "cell_type": "code",
   "execution_count": null,
   "id": "6a66362a-72be-45af-97e1-f80ca3fac72c",
   "metadata": {},
   "outputs": [],
   "source": [
    "##2\n",
    "from sklearn.feature_selection import SelectKBest\n",
    "from sklearn.feature_selection import chi2"
   ]
  },
  {
   "cell_type": "code",
   "execution_count": null,
   "id": "8afc1b6c-83e4-41de-a613-e9ff9464472d",
   "metadata": {},
   "outputs": [],
   "source": [
    "selecter = SelectKBest(chi2,k=2)"
   ]
  },
  {
   "cell_type": "code",
   "execution_count": null,
   "id": "9f674313-94ba-4f26-949b-debc86f0736a",
   "metadata": {},
   "outputs": [],
   "source": [
    "selecter.fit_transform(x,y);"
   ]
  },
  {
   "cell_type": "code",
   "execution_count": null,
   "id": "741c13f4-081e-418c-a4ba-535d014e6686",
   "metadata": {},
   "outputs": [],
   "source": [
    "## 3 -- after train\n",
    "from sklearn.feature_selection import SelectFromModel\n",
    "from sklearn.svm import LinearSVC"
   ]
  },
  {
   "cell_type": "code",
   "execution_count": null,
   "id": "8f3ca1e8-5411-47a2-8082-bb955e45caee",
   "metadata": {},
   "outputs": [],
   "source": [
    "svc = LinearSVC(penalty='l1') ## L1 based\n",
    "sfm = svc.fit(x,y)"
   ]
  },
  {
   "cell_type": "code",
   "execution_count": null,
   "id": "2144e903-e7a0-4344-80fa-d2282d9312db",
   "metadata": {},
   "outputs": [],
   "source": [
    "selected = SelectFromModel(sfm,prefit=True)\n",
    "x_new = selected.transform(x)\n",
    "x_new.shape"
   ]
  },
  {
   "cell_type": "code",
   "execution_count": null,
   "id": "0f82e1ab-41fd-4d15-9d6d-c9ae5e0631da",
   "metadata": {},
   "outputs": [],
   "source": []
  }
 ],
 "metadata": {
  "kernelspec": {
   "display_name": "Python 3 (ipykernel)",
   "language": "python",
   "name": "python3"
  },
  "language_info": {
   "codemirror_mode": {
    "name": "ipython",
    "version": 3
   },
   "file_extension": ".py",
   "mimetype": "text/x-python",
   "name": "python",
   "nbconvert_exporter": "python",
   "pygments_lexer": "ipython3",
   "version": "3.12.3"
  }
 },
 "nbformat": 4,
 "nbformat_minor": 5
}
