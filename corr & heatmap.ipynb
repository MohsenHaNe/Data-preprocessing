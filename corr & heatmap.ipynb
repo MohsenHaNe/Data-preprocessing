{
 "cells": [
  {
   "cell_type": "code",
   "execution_count": null,
   "id": "0c374775-7c22-4e9f-bc1a-93f80c23ee89",
   "metadata": {},
   "outputs": [],
   "source": [
    "import numpy as np\n",
    "import pandas as pd\n",
    "import matplotlib.pyplot as plt\n",
    "import seaborn as sns"
   ]
  },
  {
   "cell_type": "code",
   "execution_count": null,
   "id": "87243799-e6e3-469c-a050-346568336a04",
   "metadata": {},
   "outputs": [],
   "source": [
    "data = pd.read_csv('cardio_train1.csv')\n",
    "data.head()"
   ]
  },
  {
   "cell_type": "code",
   "execution_count": null,
   "id": "45ac4aa2-b574-4934-ab71-36664a8f33da",
   "metadata": {},
   "outputs": [],
   "source": [
    "new = data.drop('id',axis=1)"
   ]
  },
  {
   "cell_type": "code",
   "execution_count": null,
   "id": "b0a377ba-9e99-4add-b83f-cce5343b374d",
   "metadata": {},
   "outputs": [],
   "source": [
    "cor = new.corr()"
   ]
  },
  {
   "cell_type": "code",
   "execution_count": null,
   "id": "fd2ca926-c2de-40c9-bc7a-c6d39c049f4d",
   "metadata": {},
   "outputs": [],
   "source": [
    "cor['cardio'].max()"
   ]
  },
  {
   "cell_type": "code",
   "execution_count": null,
   "id": "88f948ee-8408-422c-9e8b-40fc056cb8b8",
   "metadata": {},
   "outputs": [],
   "source": [
    "cor"
   ]
  },
  {
   "cell_type": "code",
   "execution_count": null,
   "id": "f44d1d8e-5430-47c9-9ecd-6de223806bd5",
   "metadata": {},
   "outputs": [],
   "source": [
    "plt.figure(figsize=(10,8))\n",
    "sns.heatmap(cor,annot=True)"
   ]
  },
  {
   "cell_type": "code",
   "execution_count": null,
   "id": "ccd84673-608e-4105-b76a-12c5d73f8127",
   "metadata": {},
   "outputs": [],
   "source": [
    "sns.pairplot(cor.iloc[:5,:5])"
   ]
  },
  {
   "cell_type": "code",
   "execution_count": null,
   "id": "58e4fb1f-d463-41ee-84a6-7474e4f24fe6",
   "metadata": {},
   "outputs": [],
   "source": []
  }
 ],
 "metadata": {
  "kernelspec": {
   "display_name": "Python 3 (ipykernel)",
   "language": "python",
   "name": "python3"
  },
  "language_info": {
   "codemirror_mode": {
    "name": "ipython",
    "version": 3
   },
   "file_extension": ".py",
   "mimetype": "text/x-python",
   "name": "python",
   "nbconvert_exporter": "python",
   "pygments_lexer": "ipython3",
   "version": "3.12.3"
  }
 },
 "nbformat": 4,
 "nbformat_minor": 5
}
