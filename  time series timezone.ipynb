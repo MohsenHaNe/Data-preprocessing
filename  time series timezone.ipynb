{
 "cells": [
  {
   "cell_type": "code",
   "execution_count": null,
   "id": "d6e989b6-9c40-4eff-8496-f86576cf38ba",
   "metadata": {},
   "outputs": [],
   "source": [
    "import numpy as np\n",
    "import pandas as pd\n",
    "import matplotlib.pyplot as plt"
   ]
  },
  {
   "cell_type": "code",
   "execution_count": null,
   "id": "458d5d9b-6825-48e4-b150-47edd0aaea74",
   "metadata": {},
   "outputs": [],
   "source": [
    "data = pd.read_csv('AAPL2.csv',parse_dates=['Date'],index_col='Date')"
   ]
  },
  {
   "cell_type": "code",
   "execution_count": null,
   "id": "1e4e9680-bd47-4a92-86e1-649e5b43a1b4",
   "metadata": {},
   "outputs": [],
   "source": [
    "df = data.iloc[:20,:1]"
   ]
  },
  {
   "cell_type": "code",
   "execution_count": null,
   "id": "60ad2600-b66f-459c-85e1-b1d320092e7b",
   "metadata": {},
   "outputs": [],
   "source": [
    "df"
   ]
  },
  {
   "cell_type": "code",
   "execution_count": null,
   "id": "cb78cf23-0d58-43c3-9bde-8baeb3227be0",
   "metadata": {},
   "outputs": [],
   "source": [
    "from pytz import all_timezones\n"
   ]
  },
  {
   "cell_type": "code",
   "execution_count": null,
   "id": "9ec7147d-ccb3-4f68-a886-b45a6f8b543b",
   "metadata": {},
   "outputs": [],
   "source": [
    "all_timezones"
   ]
  },
  {
   "cell_type": "code",
   "execution_count": null,
   "id": "499e0f52-610b-41d9-bd92-1b70981cad97",
   "metadata": {},
   "outputs": [],
   "source": [
    "df = df.tz_localize(tz='Asia/Tehran')\n",
    "df.index"
   ]
  },
  {
   "cell_type": "code",
   "execution_count": null,
   "id": "a3c47a71-aaf1-419a-af72-2e097c959a99",
   "metadata": {},
   "outputs": [],
   "source": [
    "df = df.tz_convert(tz='Asia/Tehran')\n",
    "df.index"
   ]
  },
  {
   "cell_type": "code",
   "execution_count": null,
   "id": "c8eebc59-591a-4c09-98d2-e9f818af9fb7",
   "metadata": {},
   "outputs": [],
   "source": [
    "df['Open'].shift(5).plot()"
   ]
  },
  {
   "cell_type": "code",
   "execution_count": null,
   "id": "bda46ca7-0950-45ea-982b-442415f3642d",
   "metadata": {},
   "outputs": [],
   "source": []
  }
 ],
 "metadata": {
  "kernelspec": {
   "display_name": "Python 3 (ipykernel)",
   "language": "python",
   "name": "python3"
  },
  "language_info": {
   "codemirror_mode": {
    "name": "ipython",
    "version": 3
   },
   "file_extension": ".py",
   "mimetype": "text/x-python",
   "name": "python",
   "nbconvert_exporter": "python",
   "pygments_lexer": "ipython3",
   "version": "3.12.3"
  }
 },
 "nbformat": 4,
 "nbformat_minor": 5
}
