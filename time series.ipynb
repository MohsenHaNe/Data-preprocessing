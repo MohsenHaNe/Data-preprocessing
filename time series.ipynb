{
 "cells": [
  {
   "cell_type": "code",
   "execution_count": null,
   "id": "dcfae417-3fe7-4c95-902a-899c7428a4ad",
   "metadata": {},
   "outputs": [],
   "source": [
    "import pandas as pd\n",
    "import matplotlib.pyplot as plt"
   ]
  },
  {
   "cell_type": "code",
   "execution_count": null,
   "id": "e17f8930-ee4f-4b7d-b2f7-d05453c83dcf",
   "metadata": {},
   "outputs": [],
   "source": [
    "df = pd.read_csv('AAPL2.csv')\n",
    "df = df.iloc[:22,:]"
   ]
  },
  {
   "cell_type": "code",
   "execution_count": null,
   "id": "18c97dd5-eaf2-4f04-a2f0-21a6064d60b9",
   "metadata": {},
   "outputs": [],
   "source": [
    "df.drop('Date',axis=1,inplace=True)"
   ]
  },
  {
   "cell_type": "code",
   "execution_count": null,
   "id": "75a402bc-7f56-4127-b318-d73a65ecb856",
   "metadata": {},
   "outputs": [],
   "source": [
    "time = pd.date_range(start='6/1/2017',end='6/30/2017',freq='B')\n",
    "time"
   ]
  },
  {
   "cell_type": "code",
   "execution_count": null,
   "id": "30f49a29-c65e-4a5d-a0bc-df59d6a8b351",
   "metadata": {},
   "outputs": [],
   "source": [
    "df.set_index(time,inplace=True)"
   ]
  },
  {
   "cell_type": "code",
   "execution_count": null,
   "id": "2559efb3-27ef-4a62-9836-ca4d51b3bf02",
   "metadata": {},
   "outputs": [],
   "source": [
    "df.index"
   ]
  },
  {
   "cell_type": "code",
   "execution_count": null,
   "id": "0754f227-c3d0-4979-a96e-22079b785c30",
   "metadata": {},
   "outputs": [],
   "source": [
    "df[\"2017-06-01\":\"2017-06-10\"].Close.mean()"
   ]
  },
  {
   "cell_type": "code",
   "execution_count": null,
   "id": "7f34f4d4-e541-4062-9a5e-65ba5f934fba",
   "metadata": {},
   "outputs": [],
   "source": [
    "df.asfreq('D',method='pad')"
   ]
  },
  {
   "cell_type": "code",
   "execution_count": null,
   "id": "422f52ab-4759-4678-9f86-43f201aca4c4",
   "metadata": {},
   "outputs": [],
   "source": []
  }
 ],
 "metadata": {
  "kernelspec": {
   "display_name": "Python 3 (ipykernel)",
   "language": "python",
   "name": "python3"
  },
  "language_info": {
   "codemirror_mode": {
    "name": "ipython",
    "version": 3
   },
   "file_extension": ".py",
   "mimetype": "text/x-python",
   "name": "python",
   "nbconvert_exporter": "python",
   "pygments_lexer": "ipython3",
   "version": "3.12.3"
  }
 },
 "nbformat": 4,
 "nbformat_minor": 5
}
